{
 "cells": [
  {
   "cell_type": "markdown",
   "metadata": {},
   "source": [
    "## Step 0: Latent Dirichlet Allocation ##\n",
    "\n",
    "LDA is used to classify text in a document to a particular topic. It builds a topic per document model and words per topic model, modeled as Dirichlet distributions. \n",
    "\n",
    "* Each document is modeled as a multinomial distribution of topics and each topic is modeled as a multinomial distribution of words.\n",
    "* LDA assumes that the every chunk of text we feed into it will contain words that are somehow related. Therefore choosing the right corpus of data is crucial. \n",
    "* It also assumes documents are produced from a mixture of topics. Those topics then generate words based on their probability distribution. "
   ]
  },
  {
   "cell_type": "markdown",
   "metadata": {},
   "source": [
    "## Step 1: Load the dataset\n",
    "\n",
    "The dataset we'll use is a list of over one million news headlines published over a period of 15 years. We'll start by loading it from the `abcnews-date-text.csv` file."
   ]
  },
  {
   "cell_type": "code",
   "execution_count": 1,
   "metadata": {},
   "outputs": [],
   "source": [
    "'''\n",
    "Load the dataset from the CSV and save it to 'data_text'\n",
    "'''\n",
    "import pandas as pd\n",
    "data = pd.read_csv('abcnews-date-text.csv', error_bad_lines=False);\n",
    "# We only need the Headlines text column from the data\n",
    "data_text = data[:300000][['headline_text']];\n",
    "data_text['index'] = data_text.index\n",
    "\n",
    "documents = data_text"
   ]
  },
  {
   "cell_type": "markdown",
   "metadata": {},
   "source": [
    "Let's glance at the dataset:"
   ]
  },
  {
   "cell_type": "code",
   "execution_count": 2,
   "metadata": {
    "tags": []
   },
   "outputs": [
    {
     "output_type": "stream",
     "name": "stdout",
     "text": "300000\n"
    }
   ],
   "source": [
    "'''\n",
    "Get the total number of documents\n",
    "'''\n",
    "print(len(documents))"
   ]
  },
  {
   "cell_type": "code",
   "execution_count": 3,
   "metadata": {},
   "outputs": [
    {
     "output_type": "execute_result",
     "data": {
      "text/plain": "                                        headline_text   index\n299995  broughton hall audit reveals serious breaches  299995\n299996             broughton hall fails key standards  299996\n299997    broughton hall safe for residents govt says  299997\n299998  burn off at conservation park aims to prevent  299998\n299999                  burns suspended for two games  299999",
      "text/html": "<div>\n<style scoped>\n    .dataframe tbody tr th:only-of-type {\n        vertical-align: middle;\n    }\n\n    .dataframe tbody tr th {\n        vertical-align: top;\n    }\n\n    .dataframe thead th {\n        text-align: right;\n    }\n</style>\n<table border=\"1\" class=\"dataframe\">\n  <thead>\n    <tr style=\"text-align: right;\">\n      <th></th>\n      <th>headline_text</th>\n      <th>index</th>\n    </tr>\n  </thead>\n  <tbody>\n    <tr>\n      <th>299995</th>\n      <td>broughton hall audit reveals serious breaches</td>\n      <td>299995</td>\n    </tr>\n    <tr>\n      <th>299996</th>\n      <td>broughton hall fails key standards</td>\n      <td>299996</td>\n    </tr>\n    <tr>\n      <th>299997</th>\n      <td>broughton hall safe for residents govt says</td>\n      <td>299997</td>\n    </tr>\n    <tr>\n      <th>299998</th>\n      <td>burn off at conservation park aims to prevent</td>\n      <td>299998</td>\n    </tr>\n    <tr>\n      <th>299999</th>\n      <td>burns suspended for two games</td>\n      <td>299999</td>\n    </tr>\n  </tbody>\n</table>\n</div>"
     },
     "metadata": {},
     "execution_count": 3
    }
   ],
   "source": [
    "# documents[:5]\n",
    "documents.tail()"
   ]
  },
  {
   "cell_type": "markdown",
   "metadata": {},
   "source": [
    "## Step 2: Data Preprocessing ##\n",
    "\n",
    "We will perform the following steps:\n",
    "\n",
    "* **Tokenization**: Split the text into sentences and the sentences into words. Lowercase the words and remove punctuation.\n",
    "* Words that have fewer than 3 characters are removed.\n",
    "* All **stopwords** are removed.\n",
    "* Words are **lemmatized** - words in third person are changed to first person and verbs in past and future tenses are changed into present.\n",
    "* Words are **stemmed** - words are reduced to their root form.\n"
   ]
  },
  {
   "cell_type": "code",
   "execution_count": 4,
   "metadata": {
    "collapsed": true
   },
   "outputs": [],
   "source": [
    "'''\n",
    "Loading Gensim and nltk libraries\n",
    "'''\n",
    "# pip install gensim\n",
    "import gensim\n",
    "from gensim.utils import simple_preprocess\n",
    "from gensim.parsing.preprocessing import STOPWORDS\n",
    "from nltk.stem import WordNetLemmatizer, SnowballStemmer\n",
    "from nltk.stem.porter import *\n",
    "import numpy as np\n",
    "np.random.seed(400)"
   ]
  },
  {
   "cell_type": "code",
   "execution_count": 5,
   "metadata": {
    "tags": []
   },
   "outputs": [
    {
     "output_type": "stream",
     "name": "stderr",
     "text": "[nltk_data] Downloading package wordnet to\n[nltk_data]     C:\\Users\\deii\\Anaconda3\\envs\\nlp\\nltk_data...\n[nltk_data]   Package wordnet is already up-to-date!\n"
    },
    {
     "output_type": "execute_result",
     "data": {
      "text/plain": "True"
     },
     "metadata": {},
     "execution_count": 5
    }
   ],
   "source": [
    "import nltk\n",
    "nltk.download('wordnet')"
   ]
  },
  {
   "cell_type": "markdown",
   "metadata": {},
   "source": [
    "### Lemmatizer Example\n",
    "Before preprocessing our dataset, let's first look at an lemmatizing example. What would be the output if we lemmatized the word 'went':"
   ]
  },
  {
   "cell_type": "code",
   "execution_count": 6,
   "metadata": {
    "tags": []
   },
   "outputs": [
    {
     "output_type": "stream",
     "name": "stdout",
     "text": "pray\n"
    }
   ],
   "source": [
    "print(WordNetLemmatizer().lemmatize('prayed', pos = 'v')) # past tense to present tense"
   ]
  },
  {
   "cell_type": "markdown",
   "metadata": {},
   "source": [
    "### Stemmer Example\n",
    "Let's also look at a stemming example. Let's throw a number of words at the stemmer and see how it deals with each one:"
   ]
  },
  {
   "cell_type": "code",
   "execution_count": 7,
   "metadata": {},
   "outputs": [
    {
     "output_type": "execute_result",
     "data": {
      "text/plain": "   original word stemmed\n0       caresses  caress\n1          flies     fli\n2           dies     die\n3          mules    mule\n4         denied    deni\n5           died     die\n6         agreed    agre\n7          owned     own\n8        humbled   humbl\n9          sized    size\n10       meeting    meet\n11       stating   state\n12       siezing    siez\n13   itemization    item\n14   sensational  sensat\n15   traditional  tradit\n16     reference   refer\n17     colonizer   colon\n18       plotted    plot",
      "text/html": "<div>\n<style scoped>\n    .dataframe tbody tr th:only-of-type {\n        vertical-align: middle;\n    }\n\n    .dataframe tbody tr th {\n        vertical-align: top;\n    }\n\n    .dataframe thead th {\n        text-align: right;\n    }\n</style>\n<table border=\"1\" class=\"dataframe\">\n  <thead>\n    <tr style=\"text-align: right;\">\n      <th></th>\n      <th>original word</th>\n      <th>stemmed</th>\n    </tr>\n  </thead>\n  <tbody>\n    <tr>\n      <th>0</th>\n      <td>caresses</td>\n      <td>caress</td>\n    </tr>\n    <tr>\n      <th>1</th>\n      <td>flies</td>\n      <td>fli</td>\n    </tr>\n    <tr>\n      <th>2</th>\n      <td>dies</td>\n      <td>die</td>\n    </tr>\n    <tr>\n      <th>3</th>\n      <td>mules</td>\n      <td>mule</td>\n    </tr>\n    <tr>\n      <th>4</th>\n      <td>denied</td>\n      <td>deni</td>\n    </tr>\n    <tr>\n      <th>5</th>\n      <td>died</td>\n      <td>die</td>\n    </tr>\n    <tr>\n      <th>6</th>\n      <td>agreed</td>\n      <td>agre</td>\n    </tr>\n    <tr>\n      <th>7</th>\n      <td>owned</td>\n      <td>own</td>\n    </tr>\n    <tr>\n      <th>8</th>\n      <td>humbled</td>\n      <td>humbl</td>\n    </tr>\n    <tr>\n      <th>9</th>\n      <td>sized</td>\n      <td>size</td>\n    </tr>\n    <tr>\n      <th>10</th>\n      <td>meeting</td>\n      <td>meet</td>\n    </tr>\n    <tr>\n      <th>11</th>\n      <td>stating</td>\n      <td>state</td>\n    </tr>\n    <tr>\n      <th>12</th>\n      <td>siezing</td>\n      <td>siez</td>\n    </tr>\n    <tr>\n      <th>13</th>\n      <td>itemization</td>\n      <td>item</td>\n    </tr>\n    <tr>\n      <th>14</th>\n      <td>sensational</td>\n      <td>sensat</td>\n    </tr>\n    <tr>\n      <th>15</th>\n      <td>traditional</td>\n      <td>tradit</td>\n    </tr>\n    <tr>\n      <th>16</th>\n      <td>reference</td>\n      <td>refer</td>\n    </tr>\n    <tr>\n      <th>17</th>\n      <td>colonizer</td>\n      <td>colon</td>\n    </tr>\n    <tr>\n      <th>18</th>\n      <td>plotted</td>\n      <td>plot</td>\n    </tr>\n  </tbody>\n</table>\n</div>"
     },
     "metadata": {},
     "execution_count": 7
    }
   ],
   "source": [
    "stemmer = SnowballStemmer(\"english\")\n",
    "original_words = ['caresses', 'flies', 'dies', 'mules', 'denied','died', 'agreed', 'owned', \n",
    "           'humbled', 'sized','meeting', 'stating', 'siezing', 'itemization','sensational', \n",
    "           'traditional', 'reference', 'colonizer','plotted']\n",
    "singles = [stemmer.stem(plural) for plural in original_words]\n",
    "\n",
    "pd.DataFrame(data={'original word':original_words, 'stemmed':singles })"
   ]
  },
  {
   "cell_type": "code",
   "execution_count": 30,
   "metadata": {
    "collapsed": true
   },
   "outputs": [],
   "source": [
    "'''\n",
    "Write a function to perform the pre processing steps on the entire dataset\n",
    "'''\n",
    "def lemmatize_stemming(text):\n",
    "    return stemmer.stem(WordNetLemmatizer().lemmatize(text, pos='v'))\n",
    "\n",
    "# Tokenize and lemmatize\n",
    "def preprocess(text):\n",
    "    '''tokenize and lemmatize'''\n",
    "    result=[]\n",
    "    for token in gensim.utils.simple_preprocess(text) :\n",
    "        if token not in gensim.parsing.preprocessing.STOPWORDS and len(token) > 3:\n",
    "            # DONE: Apply lemmatize_stemming() on the token, then add to the results list\n",
    "            result.append(lemmatize_stemming(token))\n",
    "            \n",
    "    return result\n",
    "\n"
   ]
  },
  {
   "cell_type": "code",
   "execution_count": 31,
   "metadata": {
    "tags": []
   },
   "outputs": [
    {
     "output_type": "stream",
     "name": "stdout",
     "text": "Original document: \n['rain', 'helps', 'dampen', 'bushfires']\n\n\nTokenized and lemmatized document: \n['rain', 'help', 'dampen', 'bushfir']\n"
    }
   ],
   "source": [
    "'''\n",
    "Preview a document after preprocessing\n",
    "'''\n",
    "document_num = 4310\n",
    "doc_sample = documents[documents['index'] == document_num].values[0][0]\n",
    "\n",
    "print(\"Original document: \")\n",
    "words = []\n",
    "for word in doc_sample.split(' '):\n",
    "    words.append(word)\n",
    "print(words)\n",
    "print(\"\\n\\nTokenized and lemmatized document: \")\n",
    "print(preprocess(doc_sample))"
   ]
  },
  {
   "cell_type": "code",
   "execution_count": 10,
   "metadata": {
    "scrolled": true
   },
   "outputs": [
    {
     "output_type": "execute_result",
     "data": {
      "text/plain": "                                            headline_text   index\n0       aba decides against community broadcasting lic...       0\n1          act fire witnesses must be aware of defamation       1\n2          a g calls for infrastructure protection summit       2\n3                air nz staff in aust strike for pay rise       3\n4           air nz strike to affect australian travellers       4\n...                                                   ...     ...\n299995      broughton hall audit reveals serious breaches  299995\n299996                 broughton hall fails key standards  299996\n299997        broughton hall safe for residents govt says  299997\n299998      burn off at conservation park aims to prevent  299998\n299999                      burns suspended for two games  299999\n\n[300000 rows x 2 columns]",
      "text/html": "<div>\n<style scoped>\n    .dataframe tbody tr th:only-of-type {\n        vertical-align: middle;\n    }\n\n    .dataframe tbody tr th {\n        vertical-align: top;\n    }\n\n    .dataframe thead th {\n        text-align: right;\n    }\n</style>\n<table border=\"1\" class=\"dataframe\">\n  <thead>\n    <tr style=\"text-align: right;\">\n      <th></th>\n      <th>headline_text</th>\n      <th>index</th>\n    </tr>\n  </thead>\n  <tbody>\n    <tr>\n      <th>0</th>\n      <td>aba decides against community broadcasting lic...</td>\n      <td>0</td>\n    </tr>\n    <tr>\n      <th>1</th>\n      <td>act fire witnesses must be aware of defamation</td>\n      <td>1</td>\n    </tr>\n    <tr>\n      <th>2</th>\n      <td>a g calls for infrastructure protection summit</td>\n      <td>2</td>\n    </tr>\n    <tr>\n      <th>3</th>\n      <td>air nz staff in aust strike for pay rise</td>\n      <td>3</td>\n    </tr>\n    <tr>\n      <th>4</th>\n      <td>air nz strike to affect australian travellers</td>\n      <td>4</td>\n    </tr>\n    <tr>\n      <th>...</th>\n      <td>...</td>\n      <td>...</td>\n    </tr>\n    <tr>\n      <th>299995</th>\n      <td>broughton hall audit reveals serious breaches</td>\n      <td>299995</td>\n    </tr>\n    <tr>\n      <th>299996</th>\n      <td>broughton hall fails key standards</td>\n      <td>299996</td>\n    </tr>\n    <tr>\n      <th>299997</th>\n      <td>broughton hall safe for residents govt says</td>\n      <td>299997</td>\n    </tr>\n    <tr>\n      <th>299998</th>\n      <td>burn off at conservation park aims to prevent</td>\n      <td>299998</td>\n    </tr>\n    <tr>\n      <th>299999</th>\n      <td>burns suspended for two games</td>\n      <td>299999</td>\n    </tr>\n  </tbody>\n</table>\n<p>300000 rows × 2 columns</p>\n</div>"
     },
     "metadata": {},
     "execution_count": 10
    }
   ],
   "source": [
    "documents"
   ]
  },
  {
   "cell_type": "markdown",
   "metadata": {},
   "source": [
    "Let's now preprocess all the news headlines we have. To do that, let's use the [map](https://pandas.pydata.org/pandas-docs/stable/generated/pandas.Series.map.html) function from pandas to apply `preprocess()` to the `headline_text` column\n",
    "\n",
    "**Note**: This may take a few minutes (it take 6 minutes on my laptop)"
   ]
  },
  {
   "cell_type": "code",
   "execution_count": 32,
   "metadata": {
    "tags": []
   },
   "outputs": [],
   "source": [
    "# DONE: preprocess all the headlines, saving the list of results as 'processed_docs'\n",
    "processed_docs = documents['headline_text'].map(preprocess)"
   ]
  },
  {
   "cell_type": "code",
   "execution_count": 33,
   "metadata": {},
   "outputs": [
    {
     "output_type": "execute_result",
     "data": {
      "text/plain": "0            [decid, communiti, broadcast, licenc]\n1                               [wit, awar, defam]\n2           [call, infrastructur, protect, summit]\n3                      [staff, aust, strike, rise]\n4             [strike, affect, australian, travel]\n5               [ambiti, olsson, win, tripl, jump]\n6           [antic, delight, record, break, barca]\n7    [aussi, qualifi, stosur, wast, memphi, match]\n8            [aust, address, secur, council, iraq]\n9                         [australia, lock, timet]\nName: headline_text, dtype: object"
     },
     "metadata": {},
     "execution_count": 33
    }
   ],
   "source": [
    "'''\n",
    "Preview 'processed_docs'\n",
    "'''\n",
    "processed_docs[:10]"
   ]
  },
  {
   "cell_type": "markdown",
   "metadata": {},
   "source": [
    "## Step 3.1: Bag of words on the dataset\n",
    "\n",
    "Now let's create a dictionary from 'processed_docs' containing the number of times a word appears in the training set. To do that, let's pass `processed_docs` to [`gensim.corpora.Dictionary()`](https://radimrehurek.com/gensim/corpora/dictionary.html) and call it '`dictionary`'."
   ]
  },
  {
   "cell_type": "code",
   "execution_count": 34,
   "metadata": {
    "collapsed": true
   },
   "outputs": [],
   "source": [
    "'''\n",
    "Create a dictionary from 'processed_docs' containing the number of times a word appears \n",
    "in the training set using gensim.corpora.Dictionary and call it 'dictionary'\n",
    "'''\n",
    "dictionary = gensim.corpora.Dictionary(processed_docs)"
   ]
  },
  {
   "cell_type": "code",
   "execution_count": 35,
   "metadata": {
    "tags": []
   },
   "outputs": [
    {
     "output_type": "stream",
     "name": "stdout",
     "text": "0 broadcast\n1 communiti\n2 decid\n3 licenc\n4 awar\n5 defam\n6 wit\n7 call\n8 infrastructur\n9 protect\n10 summit\n"
    }
   ],
   "source": [
    "'''\n",
    "Checking dictionary created\n",
    "'''\n",
    "count = 0\n",
    "for k, v in dictionary.iteritems():\n",
    "    print(k, v)\n",
    "    count += 1\n",
    "    if count > 10:\n",
    "        break"
   ]
  },
  {
   "cell_type": "markdown",
   "metadata": {},
   "source": [
    "** Gensim filter_extremes **\n",
    "\n",
    "[`filter_extremes(no_below=5, no_above=0.5, keep_n=100000)`](https://radimrehurek.com/gensim/corpora/dictionary.html#gensim.corpora.dictionary.Dictionary.filter_extremes)\n",
    "\n",
    "Filter out tokens that appear in\n",
    "\n",
    "* less than no_below documents (absolute number) or\n",
    "* more than no_above documents (fraction of total corpus size, not absolute number).\n",
    "* after (1) and (2), keep only the first keep_n most frequent tokens (or keep all if None)."
   ]
  },
  {
   "cell_type": "code",
   "execution_count": 36,
   "metadata": {
    "collapsed": true
   },
   "outputs": [],
   "source": [
    "'''\n",
    "OPTIONAL STEP\n",
    "Remove very rare and very common words:\n",
    "\n",
    "- words appearing less than 15 times\n",
    "- words appearing in more than 10% of all documents\n",
    "'''\n",
    "# DONE: apply dictionary.filter_extremes() with the parameters mentioned above\n",
    "dictionary.filter_extremes(no_below=15, no_above=0.1)\n"
   ]
  },
  {
   "cell_type": "markdown",
   "metadata": {},
   "source": [
    "** Gensim doc2bow **\n",
    "\n",
    "[`doc2bow(document)`](https://radimrehurek.com/gensim/corpora/dictionary.html#gensim.corpora.dictionary.Dictionary.doc2bow)\n",
    "\n",
    "* Convert document (a list of words) into the bag-of-words format = list of (token_id, token_count) 2-tuples. Each word is assumed to be a tokenized and normalized string (either unicode or utf8-encoded). No further preprocessing is done on the words in document; apply tokenization, stemming etc. before calling this method."
   ]
  },
  {
   "cell_type": "code",
   "execution_count": 54,
   "metadata": {
    "collapsed": true
   },
   "outputs": [],
   "source": [
    "'''\n",
    "Create the Bag-of-words model for each document i.e for each document we create a dictionary reporting how many\n",
    "words and how many times those words appear. Save this to 'bow_corpus'\n",
    "'''\n",
    "# DONE\n",
    "bow_corpus = [dictionary.doc2bow(doc, allow_update=True) for doc in processed_docs]"
   ]
  },
  {
   "cell_type": "code",
   "execution_count": 55,
   "metadata": {
    "tags": []
   },
   "outputs": [
    {
     "output_type": "execute_result",
     "data": {
      "text/plain": "[(71, 1), (107, 1), (462, 1), (3530, 1)]"
     },
     "metadata": {},
     "execution_count": 55
    }
   ],
   "source": [
    "'''\n",
    "Checking Bag of Words corpus for our sample document --> (token_id, token_count)\n",
    "'''\n",
    "bow_corpus[document_num]"
   ]
  },
  {
   "cell_type": "code",
   "execution_count": 56,
   "metadata": {
    "tags": []
   },
   "outputs": [
    {
     "output_type": "stream",
     "name": "stdout",
     "text": "Word 71 (\"bushfir\") appears 1 time.\nWord 107 (\"help\") appears 1 time.\nWord 462 (\"rain\") appears 1 time.\nWord 3530 (\"dampen\") appears 1 time.\n"
    }
   ],
   "source": [
    "'''\n",
    "Preview BOW for our sample preprocessed document\n",
    "'''\n",
    "# Here document_num is document number 4310 which we have checked in Step 2\n",
    "bow_doc_4310 = bow_corpus[document_num]\n",
    "\n",
    "for i in range(len(bow_doc_4310)):\n",
    "    print(\"Word {} (\\\"{}\\\") appears {} time.\".format(bow_doc_4310[i][0], \n",
    "                                                     dictionary[bow_doc_4310[i][0]], \n",
    "                                                     bow_doc_4310[i][1]))"
   ]
  },
  {
   "cell_type": "markdown",
   "metadata": {},
   "source": [
    "## Step 3.2: TF-IDF on our document set ##\n",
    "\n",
    "While performing TF-IDF on the corpus is not necessary for LDA implemention using the gensim model, it is recemmended. TF-IDF expects a bag-of-words (integer values) training corpus during initialization. During transformation, it will take a vector and return another vector of the same dimensionality.\n",
    "\n",
    "*Please note: The author of Gensim dictates the standard procedure for LDA to be using the Bag of Words model.*"
   ]
  },
  {
   "cell_type": "markdown",
   "metadata": {},
   "source": [
    "** TF-IDF stands for \"Term Frequency, Inverse Document Frequency\".**\n",
    "\n",
    "* It is a way to score the importance of words (or \"terms\") in a document based on how frequently they appear across multiple documents.\n",
    "* If a word appears frequently in a document, it's important. Give the word a high score. But if a word appears in many documents, it's not a unique identifier. Give the word a low score.\n",
    "* Therefore, common words like \"the\" and \"for\", which appear in many documents, will be scaled down. Words that appear frequently in a single document will be scaled up.\n",
    "\n",
    "In other words:\n",
    "\n",
    "* TF(w) = `(Number of times term w appears in a document) / (Total number of terms in the document)`.\n",
    "* IDF(w) = `log_e(Total number of documents / Number of documents with term w in it)`.\n",
    "\n",
    "** For example **\n",
    "\n",
    "* Consider a document containing `100` words wherein the word 'tiger' appears 3 times. \n",
    "* The term frequency (i.e., tf) for 'tiger' is then: \n",
    "    - `TF = (3 / 100) = 0.03`. \n",
    "\n",
    "* Now, assume we have `10 million` documents and the word 'tiger' appears in `1000` of these. Then, the inverse document frequency (i.e., idf) is calculated as:\n",
    "    - `IDF = log(10,000,000 / 1,000) = 4`. \n",
    "\n",
    "* Thus, the Tf-idf weight is the product of these quantities: \n",
    "    - `TF-IDF = 0.03 * 4 = 0.12`."
   ]
  },
  {
   "cell_type": "code",
   "execution_count": 57,
   "metadata": {},
   "outputs": [],
   "source": [
    "'''\n",
    "Create tf-idf model object using models.TfidfModel on 'bow_corpus' and save it to 'tfidf'\n",
    "'''\n",
    "from gensim import corpora, models\n",
    "\n",
    "# DONE\n",
    "tfidf = models.TfidfModel(corpus=bow_corpus)"
   ]
  },
  {
   "cell_type": "code",
   "execution_count": 58,
   "metadata": {},
   "outputs": [],
   "source": [
    "'''\n",
    "Apply transformation to the entire corpus and call it 'corpus_tfidf'\n",
    "'''\n",
    "# DONE\n",
    "corpus_tfidf = tfidf[bow_corpus]"
   ]
  },
  {
   "cell_type": "code",
   "execution_count": 59,
   "metadata": {
    "tags": []
   },
   "outputs": [
    {
     "output_type": "stream",
     "name": "stdout",
     "text": "[(0, 0.5959813347777092),\n (1, 0.39204529549491984),\n (2, 0.48531419274988147),\n (3, 0.5055461098578569)]\n"
    }
   ],
   "source": [
    "'''\n",
    "Preview TF-IDF scores for our first document --> --> (token_id, tfidf score)\n",
    "'''\n",
    "from pprint import pprint\n",
    "for doc in corpus_tfidf:\n",
    "    pprint(doc)\n",
    "    break"
   ]
  },
  {
   "cell_type": "markdown",
   "metadata": {},
   "source": [
    "## Step 4.1: Running LDA using Bag of Words ##\n",
    "\n",
    "We are going for 10 topics in the document corpus.\n",
    "\n",
    "** We will be running LDA using all CPU cores to parallelize and speed up model training.**\n",
    "\n",
    "Some of the parameters we will be tweaking are:\n",
    "\n",
    "* **num_topics** is the number of requested latent topics to be extracted from the training corpus.\n",
    "* **id2word** is a mapping from word ids (integers) to words (strings). It is used to determine the vocabulary size, as well as for debugging and topic printing.\n",
    "* **workers** is the number of extra processes to use for parallelization. Uses all available cores by default.\n",
    "* **alpha** and **eta** are hyperparameters that affect sparsity of the document-topic (theta) and topic-word (lambda) distributions. We will let these be the default values for now(default value is `1/num_topics`)\n",
    "    - Alpha is the per document topic distribution.\n",
    "        * High alpha: Every document has a mixture of all topics(documents appear similar to each other).\n",
    "        * Low alpha: Every document has a mixture of very few topics\n",
    "\n",
    "    - Eta is the per topic word distribution.\n",
    "        * High eta: Each topic has a mixture of most words(topics appear similar to each other).\n",
    "        * Low eta: Each topic has a mixture of few words.\n",
    "\n",
    "* ** passes ** is the number of training passes through the corpus. For  example, if the training corpus has 50,000 documents, chunksize is  10,000, passes is 2, then online training is done in 10 updates: \n",
    "    * `#1 documents 0-9,999 `\n",
    "    * `#2 documents 10,000-19,999 `\n",
    "    * `#3 documents 20,000-29,999 `\n",
    "    * `#4 documents 30,000-39,999 `\n",
    "    * `#5 documents 40,000-49,999 `\n",
    "    * `#6 documents 0-9,999 `\n",
    "    * `#7 documents 10,000-19,999 `\n",
    "    * `#8 documents 20,000-29,999 `\n",
    "    * `#9 documents 30,000-39,999 `\n",
    "    * `#10 documents 40,000-49,999` "
   ]
  },
  {
   "cell_type": "code",
   "execution_count": 60,
   "metadata": {
    "collapsed": true
   },
   "outputs": [],
   "source": [
    "# LDA mono-core -- fallback code in case LdaMulticore throws an error on your machine\n",
    "# lda_model = gensim.models.LdaModel(bow_corpus, \n",
    "#                                    num_topics = 10, \n",
    "#                                    id2word = dictionary,                                    \n",
    "#                                    passes = 50)\n",
    "\n",
    "# LDA multicore \n",
    "'''\n",
    "Train your lda model using gensim.models.LdaMulticore and save it to 'lda_model'\n",
    "'''\n",
    "# DONE\n",
    "lda_model = models.LdaMulticore(corpus=bow_corpus, id2word=dictionary, num_topics=10, passes=2, workers=2)"
   ]
  },
  {
   "cell_type": "code",
   "execution_count": 61,
   "metadata": {
    "tags": []
   },
   "outputs": [
    {
     "output_type": "stream",
     "name": "stdout",
     "text": "Topic: 0 \nWords: 0.025*\"jail\" + 0.023*\"accus\" + 0.014*\"deni\" + 0.014*\"trial\" + 0.014*\"appeal\" + 0.013*\"child\" + 0.013*\"govt\" + 0.012*\"court\" + 0.010*\"blame\" + 0.010*\"hick\"\n\n\nTopic: 1 \nWords: 0.040*\"water\" + 0.022*\"closer\" + 0.019*\"price\" + 0.017*\"resid\" + 0.017*\"call\" + 0.016*\"break\" + 0.015*\"record\" + 0.014*\"busi\" + 0.012*\"farm\" + 0.011*\"rise\"\n\n\nTopic: 2 \nWords: 0.035*\"face\" + 0.029*\"court\" + 0.025*\"home\" + 0.017*\"expect\" + 0.012*\"fall\" + 0.012*\"leav\" + 0.011*\"blue\" + 0.011*\"rate\" + 0.011*\"student\" + 0.010*\"high\"\n\n\nTopic: 3 \nWords: 0.030*\"plan\" + 0.028*\"council\" + 0.024*\"govt\" + 0.018*\"fund\" + 0.015*\"group\" + 0.014*\"health\" + 0.014*\"hous\" + 0.013*\"opposit\" + 0.013*\"urg\" + 0.011*\"chang\"\n\n\nTopic: 4 \nWords: 0.021*\"minist\" + 0.018*\"australian\" + 0.018*\"union\" + 0.016*\"mayor\" + 0.014*\"play\" + 0.012*\"stand\" + 0.012*\"win\" + 0.012*\"worker\" + 0.010*\"clear\" + 0.010*\"award\"\n\n\nTopic: 5 \nWords: 0.016*\"death\" + 0.015*\"open\" + 0.014*\"blaze\" + 0.014*\"coast\" + 0.012*\"final\" + 0.011*\"aussi\" + 0.011*\"storm\" + 0.011*\"firefight\" + 0.010*\"strike\" + 0.010*\"gold\"\n\n\nTopic: 6 \nWords: 0.017*\"iraq\" + 0.017*\"aust\" + 0.016*\"test\" + 0.015*\"talk\" + 0.014*\"elect\" + 0.013*\"howard\" + 0.013*\"nuclear\" + 0.012*\"south\" + 0.012*\"leader\" + 0.011*\"sale\"\n\n\nTopic: 7 \nWords: 0.035*\"govt\" + 0.030*\"urg\" + 0.017*\"polic\" + 0.017*\"work\" + 0.017*\"farmer\" + 0.014*\"probe\" + 0.013*\"power\" + 0.013*\"drought\" + 0.010*\"council\" + 0.010*\"market\"\n\n\nTopic: 8 \nWords: 0.059*\"polic\" + 0.039*\"charg\" + 0.035*\"warn\" + 0.024*\"miss\" + 0.019*\"drug\" + 0.016*\"case\" + 0.016*\"search\" + 0.015*\"arrest\" + 0.014*\"murder\" + 0.014*\"investig\"\n\n\nTopic: 9 \nWords: 0.041*\"kill\" + 0.038*\"crash\" + 0.027*\"attack\" + 0.017*\"die\" + 0.015*\"continu\" + 0.014*\"victim\" + 0.013*\"dead\" + 0.013*\"polic\" + 0.013*\"bomb\" + 0.011*\"injur\"\n\n\n"
    }
   ],
   "source": [
    "'''\n",
    "For each topic, we will explore the words occuring in that topic and its relative weight\n",
    "'''\n",
    "for idx, topic in lda_model.print_topics(-1):\n",
    "    # print(\"Topic: {} \\nWords: {}\".format(topic, idx ))\n",
    "    print(\"Topic: {} \\nWords: {}\".format(idx, topic))\n",
    "    print(\"\\n\")"
   ]
  },
  {
   "cell_type": "markdown",
   "metadata": {},
   "source": [
    "### Classification of the topics ###\n",
    "\n",
    "Using the words in each topic and their corresponding weights, what categories were you able to infer?\n",
    "\n",
    "* 0: \n",
    "* 1: \n",
    "* 2: \n",
    "* 3: \n",
    "* 4: \n",
    "* 5: \n",
    "* 6: \n",
    "* 7:  \n",
    "* 8: \n",
    "* 9: "
   ]
  },
  {
   "cell_type": "markdown",
   "metadata": {},
   "source": [
    "## Step 4.2 Running LDA using TF-IDF ##"
   ]
  },
  {
   "cell_type": "code",
   "execution_count": 64,
   "metadata": {
    "collapsed": true
   },
   "outputs": [],
   "source": [
    "'''\n",
    "Define lda model using corpus_tfidf, again using gensim.models.LdaMulticore()\n",
    "'''\n",
    "# DONE\n",
    "lda_model_tfidf = models.LdaMulticore(corpus=corpus_tfidf, num_topics=10, workers=4, passes=2, id2word=dictionary)"
   ]
  },
  {
   "cell_type": "code",
   "execution_count": 65,
   "metadata": {
    "tags": []
   },
   "outputs": [
    {
     "output_type": "stream",
     "name": "stdout",
     "text": "Topic: 0 Word: 0.017*\"charg\" + 0.015*\"court\" + 0.013*\"polic\" + 0.013*\"murder\" + 0.010*\"face\" + 0.009*\"assault\" + 0.009*\"jail\" + 0.008*\"death\" + 0.008*\"child\" + 0.008*\"drug\"\n\n\nTopic: 1 Word: 0.031*\"closer\" + 0.007*\"plan\" + 0.006*\"govt\" + 0.006*\"wast\" + 0.005*\"lebanon\" + 0.005*\"health\" + 0.005*\"mental\" + 0.004*\"water\" + 0.004*\"irrig\" + 0.004*\"miner\"\n\n\nTopic: 2 Word: 0.007*\"speed\" + 0.006*\"soldier\" + 0.005*\"pont\" + 0.005*\"fiji\" + 0.005*\"chase\" + 0.005*\"pipelin\" + 0.005*\"socceroo\" + 0.005*\"suspend\" + 0.004*\"flag\" + 0.004*\"cell\"\n\n\nTopic: 3 Word: 0.012*\"kill\" + 0.011*\"iraq\" + 0.011*\"coast\" + 0.009*\"troop\" + 0.008*\"timor\" + 0.008*\"south\" + 0.008*\"north\" + 0.008*\"west\" + 0.007*\"east\" + 0.006*\"violenc\"\n\n\nTopic: 4 Word: 0.009*\"govt\" + 0.007*\"labor\" + 0.007*\"liber\" + 0.007*\"opposit\" + 0.007*\"chang\" + 0.006*\"indigen\" + 0.006*\"urg\" + 0.005*\"polic\" + 0.005*\"climat\" + 0.005*\"search\"\n\n\nTopic: 5 Word: 0.006*\"final\" + 0.005*\"record\" + 0.005*\"lead\" + 0.005*\"wind\" + 0.005*\"aussi\" + 0.005*\"open\" + 0.005*\"news\" + 0.005*\"afghanistan\" + 0.005*\"tiger\" + 0.005*\"world\"\n\n\nTopic: 6 Word: 0.006*\"govt\" + 0.006*\"shortag\" + 0.006*\"concern\" + 0.006*\"plan\" + 0.006*\"council\" + 0.006*\"mine\" + 0.005*\"uranium\" + 0.005*\"rais\" + 0.005*\"job\" + 0.005*\"whale\"\n\n\nTopic: 7 Word: 0.008*\"water\" + 0.008*\"council\" + 0.008*\"govt\" + 0.007*\"fund\" + 0.007*\"rudd\" + 0.007*\"urg\" + 0.006*\"plan\" + 0.006*\"rise\" + 0.006*\"drought\" + 0.005*\"farmer\"\n\n\nTopic: 8 Word: 0.010*\"firefight\" + 0.008*\"murray\" + 0.007*\"crew\" + 0.006*\"blaze\" + 0.006*\"bushfir\" + 0.005*\"coal\" + 0.004*\"battl\" + 0.004*\"contain\" + 0.004*\"darl\" + 0.004*\"govt\"\n\n\nTopic: 9 Word: 0.024*\"crash\" + 0.012*\"polic\" + 0.010*\"investig\" + 0.009*\"fatal\" + 0.009*\"victim\" + 0.009*\"die\" + 0.008*\"accid\" + 0.008*\"road\" + 0.007*\"kill\" + 0.007*\"plane\"\n\n\n"
    }
   ],
   "source": [
    "'''\n",
    "For each topic, we will explore the words occuring in that topic and its relative weight\n",
    "'''\n",
    "for idx, topic in lda_model_tfidf.print_topics(-1):\n",
    "    print(\"Topic: {} Word: {}\".format(idx, topic))\n",
    "    print(\"\\n\")"
   ]
  },
  {
   "cell_type": "markdown",
   "metadata": {},
   "source": [
    "### Classification of the topics ###\n",
    "\n",
    "As we can see, when using tf-idf, heavier weights are given to words that are not as frequent which results in nouns being factored in. That makes it harder to figure out the categories as nouns can be hard to categorize. This goes to show that the models we apply depend on the type of corpus of text we are dealing with. \n",
    "\n",
    "Using the words in each topic and their corresponding weights, what categories could you find?\n",
    "\n",
    "* 0: \n",
    "* 1:  \n",
    "* 2: \n",
    "* 3: \n",
    "* 4:  \n",
    "* 5: \n",
    "* 6: \n",
    "* 7: \n",
    "* 8: \n",
    "* 9: "
   ]
  },
  {
   "cell_type": "markdown",
   "metadata": {},
   "source": [
    "## Step 5.1: Performance evaluation by classifying sample document using LDA Bag of Words model##\n",
    "\n",
    "We will check to see where our test document would be classified. "
   ]
  },
  {
   "cell_type": "code",
   "execution_count": 66,
   "metadata": {},
   "outputs": [
    {
     "output_type": "execute_result",
     "data": {
      "text/plain": "['rain', 'help', 'dampen', 'bushfir']"
     },
     "metadata": {},
     "execution_count": 66
    }
   ],
   "source": [
    "'''\n",
    "Text of sample document 4310\n",
    "'''\n",
    "processed_docs[4310]"
   ]
  },
  {
   "cell_type": "code",
   "execution_count": 67,
   "metadata": {
    "tags": []
   },
   "outputs": [
    {
     "output_type": "stream",
     "name": "stdout",
     "text": "\nScore: 0.37685108184814453\t \nTopic: 0.030*\"plan\" + 0.028*\"council\" + 0.024*\"govt\" + 0.018*\"fund\" + 0.015*\"group\" + 0.014*\"health\" + 0.014*\"hous\" + 0.013*\"opposit\" + 0.013*\"urg\" + 0.011*\"chang\"\n\nScore: 0.2630610466003418\t \nTopic: 0.040*\"water\" + 0.022*\"closer\" + 0.019*\"price\" + 0.017*\"resid\" + 0.017*\"call\" + 0.016*\"break\" + 0.015*\"record\" + 0.014*\"busi\" + 0.012*\"farm\" + 0.011*\"rise\"\n\nScore: 0.22004275023937225\t \nTopic: 0.017*\"iraq\" + 0.017*\"aust\" + 0.016*\"test\" + 0.015*\"talk\" + 0.014*\"elect\" + 0.013*\"howard\" + 0.013*\"nuclear\" + 0.012*\"south\" + 0.012*\"leader\" + 0.011*\"sale\"\n\nScore: 0.020008549094200134\t \nTopic: 0.016*\"death\" + 0.015*\"open\" + 0.014*\"blaze\" + 0.014*\"coast\" + 0.012*\"final\" + 0.011*\"aussi\" + 0.011*\"storm\" + 0.011*\"firefight\" + 0.010*\"strike\" + 0.010*\"gold\"\n\nScore: 0.02000788040459156\t \nTopic: 0.035*\"govt\" + 0.030*\"urg\" + 0.017*\"polic\" + 0.017*\"work\" + 0.017*\"farmer\" + 0.014*\"probe\" + 0.013*\"power\" + 0.013*\"drought\" + 0.010*\"council\" + 0.010*\"market\"\n\nScore: 0.02000640518963337\t \nTopic: 0.059*\"polic\" + 0.039*\"charg\" + 0.035*\"warn\" + 0.024*\"miss\" + 0.019*\"drug\" + 0.016*\"case\" + 0.016*\"search\" + 0.015*\"arrest\" + 0.014*\"murder\" + 0.014*\"investig\"\n\nScore: 0.020006049424409866\t \nTopic: 0.025*\"jail\" + 0.023*\"accus\" + 0.014*\"deni\" + 0.014*\"trial\" + 0.014*\"appeal\" + 0.013*\"child\" + 0.013*\"govt\" + 0.012*\"court\" + 0.010*\"blame\" + 0.010*\"hick\"\n\nScore: 0.020005401223897934\t \nTopic: 0.035*\"face\" + 0.029*\"court\" + 0.025*\"home\" + 0.017*\"expect\" + 0.012*\"fall\" + 0.012*\"leav\" + 0.011*\"blue\" + 0.011*\"rate\" + 0.011*\"student\" + 0.010*\"high\"\n\nScore: 0.020005401223897934\t \nTopic: 0.021*\"minist\" + 0.018*\"australian\" + 0.018*\"union\" + 0.016*\"mayor\" + 0.014*\"play\" + 0.012*\"stand\" + 0.012*\"win\" + 0.012*\"worker\" + 0.010*\"clear\" + 0.010*\"award\"\n\nScore: 0.020005401223897934\t \nTopic: 0.041*\"kill\" + 0.038*\"crash\" + 0.027*\"attack\" + 0.017*\"die\" + 0.015*\"continu\" + 0.014*\"victim\" + 0.013*\"dead\" + 0.013*\"polic\" + 0.013*\"bomb\" + 0.011*\"injur\"\n"
    }
   ],
   "source": [
    "'''\n",
    "Check which topic our test document belongs to using the LDA Bag of Words model.\n",
    "'''\n",
    "document_num = 4310\n",
    "# Our test document is document number 4310\n",
    "\n",
    "# TODO\n",
    "# Our test document is document number 4310\n",
    "for index, score in sorted(lda_model[bow_corpus[document_num]], key=lambda tup: -1*tup[1]):\n",
    "    print(\"\\nScore: {}\\t \\nTopic: {}\".format(score, lda_model.print_topic(index, 10)))"
   ]
  },
  {
   "cell_type": "markdown",
   "metadata": {},
   "source": [
    "### It has the highest probability (`x`) to be  part of the topic that we assigned as X, which is the accurate classification. ###"
   ]
  },
  {
   "cell_type": "markdown",
   "metadata": {},
   "source": [
    "## Step 5.2: Performance evaluation by classifying sample document using LDA TF-IDF model##"
   ]
  },
  {
   "cell_type": "code",
   "execution_count": 68,
   "metadata": {
    "tags": []
   },
   "outputs": [
    {
     "output_type": "stream",
     "name": "stdout",
     "text": "\nScore: 0.8199246525764465\t \nTopic: 0.024*\"crash\" + 0.012*\"polic\" + 0.010*\"investig\" + 0.009*\"fatal\" + 0.009*\"victim\" + 0.009*\"die\" + 0.008*\"accid\" + 0.008*\"road\" + 0.007*\"kill\" + 0.007*\"plane\"\n\nScore: 0.020018167793750763\t \nTopic: 0.010*\"firefight\" + 0.008*\"murray\" + 0.007*\"crew\" + 0.006*\"blaze\" + 0.006*\"bushfir\" + 0.005*\"coal\" + 0.004*\"battl\" + 0.004*\"contain\" + 0.004*\"darl\" + 0.004*\"govt\"\n\nScore: 0.02000962197780609\t \nTopic: 0.008*\"water\" + 0.008*\"council\" + 0.008*\"govt\" + 0.007*\"fund\" + 0.007*\"rudd\" + 0.007*\"urg\" + 0.006*\"plan\" + 0.006*\"rise\" + 0.006*\"drought\" + 0.005*\"farmer\"\n\nScore: 0.020009517669677734\t \nTopic: 0.017*\"charg\" + 0.015*\"court\" + 0.013*\"polic\" + 0.013*\"murder\" + 0.010*\"face\" + 0.009*\"assault\" + 0.009*\"jail\" + 0.008*\"death\" + 0.008*\"child\" + 0.008*\"drug\"\n\nScore: 0.020007451996207237\t \nTopic: 0.006*\"govt\" + 0.006*\"shortag\" + 0.006*\"concern\" + 0.006*\"plan\" + 0.006*\"council\" + 0.006*\"mine\" + 0.005*\"uranium\" + 0.005*\"rais\" + 0.005*\"job\" + 0.005*\"whale\"\n\nScore: 0.020006874576210976\t \nTopic: 0.009*\"govt\" + 0.007*\"labor\" + 0.007*\"liber\" + 0.007*\"opposit\" + 0.007*\"chang\" + 0.006*\"indigen\" + 0.006*\"urg\" + 0.005*\"polic\" + 0.005*\"climat\" + 0.005*\"search\"\n\nScore: 0.02000660076737404\t \nTopic: 0.012*\"kill\" + 0.011*\"iraq\" + 0.011*\"coast\" + 0.009*\"troop\" + 0.008*\"timor\" + 0.008*\"south\" + 0.008*\"north\" + 0.008*\"west\" + 0.007*\"east\" + 0.006*\"violenc\"\n\nScore: 0.020006269216537476\t \nTopic: 0.031*\"closer\" + 0.007*\"plan\" + 0.006*\"govt\" + 0.006*\"wast\" + 0.005*\"lebanon\" + 0.005*\"health\" + 0.005*\"mental\" + 0.004*\"water\" + 0.004*\"irrig\" + 0.004*\"miner\"\n\nScore: 0.020005451515316963\t \nTopic: 0.007*\"speed\" + 0.006*\"soldier\" + 0.005*\"pont\" + 0.005*\"fiji\" + 0.005*\"chase\" + 0.005*\"pipelin\" + 0.005*\"socceroo\" + 0.005*\"suspend\" + 0.004*\"flag\" + 0.004*\"cell\"\n\nScore: 0.020005367696285248\t \nTopic: 0.006*\"final\" + 0.005*\"record\" + 0.005*\"lead\" + 0.005*\"wind\" + 0.005*\"aussi\" + 0.005*\"open\" + 0.005*\"news\" + 0.005*\"afghanistan\" + 0.005*\"tiger\" + 0.005*\"world\"\n"
    }
   ],
   "source": [
    "'''\n",
    "Check which topic our test document belongs to using the LDA TF-IDF model.\n",
    "'''\n",
    "# Our test document is document number 4310\n",
    "for index, score in sorted(lda_model_tfidf[bow_corpus[document_num]], key=lambda tup: -1*tup[1]):\n",
    "    print(\"\\nScore: {}\\t \\nTopic: {}\".format(score, lda_model_tfidf.print_topic(index, 10)))"
   ]
  },
  {
   "cell_type": "markdown",
   "metadata": {},
   "source": [
    "### It has the highest probability (`x%`) to be  part of the topic that we assigned as X. ###"
   ]
  },
  {
   "cell_type": "markdown",
   "metadata": {},
   "source": [
    "## Step 6: Testing model on unseen document ##"
   ]
  },
  {
   "cell_type": "code",
   "execution_count": 69,
   "metadata": {
    "collapsed": true,
    "tags": []
   },
   "outputs": [
    {
     "output_type": "stream",
     "name": "stdout",
     "text": "Score: 0.4200255274772644\t Topic: 0.021*\"minist\" + 0.018*\"australian\" + 0.018*\"union\" + 0.016*\"mayor\" + 0.014*\"play\"\nScore: 0.4200041592121124\t Topic: 0.040*\"water\" + 0.022*\"closer\" + 0.019*\"price\" + 0.017*\"resid\" + 0.017*\"call\"\nScore: 0.019996607676148415\t Topic: 0.059*\"polic\" + 0.039*\"charg\" + 0.035*\"warn\" + 0.024*\"miss\" + 0.019*\"drug\"\nScore: 0.019996238872408867\t Topic: 0.025*\"jail\" + 0.023*\"accus\" + 0.014*\"deni\" + 0.014*\"trial\" + 0.014*\"appeal\"\nScore: 0.019996238872408867\t Topic: 0.035*\"face\" + 0.029*\"court\" + 0.025*\"home\" + 0.017*\"expect\" + 0.012*\"fall\"\nScore: 0.019996238872408867\t Topic: 0.016*\"death\" + 0.015*\"open\" + 0.014*\"blaze\" + 0.014*\"coast\" + 0.012*\"final\"\nScore: 0.019996238872408867\t Topic: 0.017*\"iraq\" + 0.017*\"aust\" + 0.016*\"test\" + 0.015*\"talk\" + 0.014*\"elect\"\nScore: 0.019996238872408867\t Topic: 0.035*\"govt\" + 0.030*\"urg\" + 0.017*\"polic\" + 0.017*\"work\" + 0.017*\"farmer\"\nScore: 0.019996238872408867\t Topic: 0.041*\"kill\" + 0.038*\"crash\" + 0.027*\"attack\" + 0.017*\"die\" + 0.015*\"continu\"\nScore: 0.019996237009763718\t Topic: 0.030*\"plan\" + 0.028*\"council\" + 0.024*\"govt\" + 0.018*\"fund\" + 0.015*\"group\"\n"
    }
   ],
   "source": [
    "unseen_document = \"My favorite sports activities are running and swimming.\"\n",
    "\n",
    "# Data preprocessing step for the unseen document\n",
    "bow_vector = dictionary.doc2bow(preprocess(unseen_document))\n",
    "\n",
    "for index, score in sorted(lda_model[bow_vector], key=lambda tup: -1*tup[1]):\n",
    "    print(\"Score: {}\\t Topic: {}\".format(score, lda_model.print_topic(index, 5)))"
   ]
  },
  {
   "cell_type": "markdown",
   "metadata": {},
   "source": [
    "The model correctly classifies the unseen document with 'x'% probability to the X category."
   ]
  }
 ],
 "metadata": {
  "kernelspec": {
   "display_name": "Python 3.7.6 64-bit ('nlp': conda)",
   "language": "python",
   "name": "python37664bitnlpcondacd299bd1c3904e6da173840a5b2e818a"
  },
  "language_info": {
   "codemirror_mode": {
    "name": "ipython",
    "version": 3
   },
   "file_extension": ".py",
   "mimetype": "text/x-python",
   "name": "python",
   "nbconvert_exporter": "python",
   "pygments_lexer": "ipython3",
   "version": "3.7.6-final"
  }
 },
 "nbformat": 4,
 "nbformat_minor": 1
}